{
 "cells": [
  {
   "cell_type": "code",
   "execution_count": 1,
   "id": "c4760fd4",
   "metadata": {},
   "outputs": [],
   "source": [
    "from IPython.display import Audio\n",
    "from os import path\n",
    "from pydub import AudioSegment\n",
    "import librosa\n",
    "import librosa.display\n",
    "import numpy as np\n",
    "import matplotlib.pyplot as plt\n",
    "import libfmp.b\n",
    "import math\n",
    "import sys\n",
    "sys.path.append('/path/to/ffmpeg')"
   ]
  },
  {
   "cell_type": "code",
   "execution_count": 2,
   "id": "b7b89d94",
   "metadata": {},
   "outputs": [],
   "source": [
    "song_path = \"song_data\""
   ]
  },
  {
   "cell_type": "code",
   "execution_count": 12,
   "id": "0b696922",
   "metadata": {},
   "outputs": [
    {
     "name": "stdout",
     "output_type": "stream",
     "text": [
      "wav/Akame Ga Kill op 2 [89.10290948] 0.1138131\n",
      "wav/Assassination Classroom Ending [75.99954044] 0.18363065\n",
      "wav/Fate zero ending [129.19921875] 0.19669369\n",
      "wav/Soul Eater Ending [89.10290948] 0.38429415\n",
      "wav/TWGOK Ending 2 [80.74951172] 0.29068112\n",
      "wav/TWOGK Ending [107.66601562] 0.27780756\n",
      "wav/Uraha Love [135.99917763] 0.19829598\n"
     ]
    }
   ],
   "source": [
    "files = librosa.util.find_files(song_path, ext=['mp3']) \n",
    "files = np.asarray(files)\n",
    "for file in files:\n",
    "    src = AudioSegment.from_mp3(file)\n",
    "    name = \"wav/\" + file.split(\"/\")[len(file.split(\"/\")) - 1].split(\".\")[0] \n",
    "    src.export(name, format=\"wav\")\n",
    "    y, sr = librosa.load(name)\n",
    "    print(name, librosa.beat.tempo(y=y, sr=sr, start_bpm = 100), librosa.feature.rms(y=y).mean())\n",
    "    \n",
    "    "
   ]
  },
  {
   "cell_type": "code",
   "execution_count": null,
   "id": "b0810e7f",
   "metadata": {},
   "outputs": [],
   "source": []
  }
 ],
 "metadata": {
  "kernelspec": {
   "display_name": "Python 3 (ipykernel)",
   "language": "python",
   "name": "python3"
  },
  "language_info": {
   "codemirror_mode": {
    "name": "ipython",
    "version": 3
   },
   "file_extension": ".py",
   "mimetype": "text/x-python",
   "name": "python",
   "nbconvert_exporter": "python",
   "pygments_lexer": "ipython3",
   "version": "3.9.12"
  }
 },
 "nbformat": 4,
 "nbformat_minor": 5
}
