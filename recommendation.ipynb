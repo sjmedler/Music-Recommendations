{
 "cells": [
  {
   "cell_type": "raw",
   "id": "164d4c28",
   "metadata": {},
   "source": [
    "In the code below, I used the token that I gained from the authorization Python script as a means to access data from Spotify. The result of this code was the table that you see in music.csv which consists of Spotify songs from all of the genres and their corresponding valence and energy measurements in the Spotify database. "
   ]
  },
  {
   "cell_type": "code",
   "execution_count": 1,
   "id": "548527a9",
   "metadata": {
    "scrolled": true
   },
   "outputs": [],
   "source": [
    "import pandas as pd\n",
    "import sys\n",
    "import authorization\n",
    "import pandas as pd\n",
    "from tqdm import tqdm\n",
    "import time\n",
    "import numpy as np\n",
    "from numpy.linalg import norm"
   ]
  },
  {
   "cell_type": "raw",
   "id": "9d5aba5a",
   "metadata": {},
   "source": [
    "The variable \"sp\" is the token that my authorization python script returns which allows me to access data on Spotify."
   ]
  },
  {
   "cell_type": "code",
   "execution_count": 2,
   "id": "f404d2ee",
   "metadata": {},
   "outputs": [],
   "source": [
    "sp = authorization.authorize()"
   ]
  },
  {
   "cell_type": "raw",
   "id": "89807c93",
   "metadata": {},
   "source": [
    "In the code below, I returned the number of listed genres on Spotify and a list of these genres."
   ]
  },
  {
   "cell_type": "code",
   "execution_count": 3,
   "id": "eadc5426",
   "metadata": {},
   "outputs": [],
   "source": [
    "genres = sp.recommendation_genre_seeds()"
   ]
  },
  {
   "cell_type": "code",
   "execution_count": 6,
   "id": "c4d43a4d",
   "metadata": {},
   "outputs": [
    {
     "name": "stdout",
     "output_type": "stream",
     "text": [
      "126\n"
     ]
    }
   ],
   "source": [
    "print(len(genres))"
   ]
  },
  {
   "cell_type": "code",
   "execution_count": 7,
   "id": "4cc99c79",
   "metadata": {},
   "outputs": [
    {
     "name": "stdout",
     "output_type": "stream",
     "text": [
      "['acoustic', 'afrobeat', 'alt-rock', 'alternative', 'ambient', 'anime', 'black-metal', 'bluegrass', 'blues', 'bossanova', 'brazil', 'breakbeat', 'british', 'cantopop', 'chicago-house', 'children', 'chill', 'classical', 'club', 'comedy', 'country', 'dance', 'dancehall', 'death-metal', 'deep-house', 'detroit-techno', 'disco', 'disney', 'drum-and-bass', 'dub', 'dubstep', 'edm', 'electro', 'electronic', 'emo', 'folk', 'forro', 'french', 'funk', 'garage', 'german', 'gospel', 'goth', 'grindcore', 'groove', 'grunge', 'guitar', 'happy', 'hard-rock', 'hardcore', 'hardstyle', 'heavy-metal', 'hip-hop', 'holidays', 'honky-tonk', 'house', 'idm', 'indian', 'indie', 'indie-pop', 'industrial', 'iranian', 'j-dance', 'j-idol', 'j-pop', 'j-rock', 'jazz', 'k-pop', 'kids', 'latin', 'latino', 'malay', 'mandopop', 'metal', 'metal-misc', 'metalcore', 'minimal-techno', 'movies', 'mpb', 'new-age', 'new-release', 'opera', 'pagode', 'party', 'philippines-opm', 'piano', 'pop', 'pop-film', 'post-dubstep', 'power-pop', 'progressive-house', 'psych-rock', 'punk', 'punk-rock', 'r-n-b', 'rainy-day', 'reggae', 'reggaeton', 'road-trip', 'rock', 'rock-n-roll', 'rockabilly', 'romance', 'sad', 'salsa', 'samba', 'sertanejo', 'show-tunes', 'singer-songwriter', 'ska', 'sleep', 'songwriter', 'soul', 'soundtracks', 'spanish', 'study', 'summer', 'swedish', 'synth-pop', 'tango', 'techno', 'trance', 'trip-hop', 'turkish', 'work-out', 'world-music']\n"
     ]
    }
   ],
   "source": [
    "print(genres)"
   ]
  },
  {
   "cell_type": "raw",
   "id": "16e97a75",
   "metadata": {},
   "source": [
    "In the code below, the data_dict shows the data that I collected from each song in Spotify. For all the 126 genres listed above, I got 50 songs from genre and put the data from each of these songs into the categories in data_dict. "
   ]
  },
  {
   "cell_type": "code",
   "execution_count": 12,
   "id": "61014235",
   "metadata": {},
   "outputs": [],
   "source": [
    "\n",
    "\n",
    "data_dict = {\"id\":[], \"genre\":[], \"track_name\":[], \"artist_name\":[],\n",
    "             \"valence\":[], \"energy\":[]}"
   ]
  },
  {
   "cell_type": "code",
   "execution_count": 13,
   "id": "3f46a1fb",
   "metadata": {},
   "outputs": [
    {
     "name": "stderr",
     "output_type": "stream",
     "text": [
      "100%|█████████████████████████████████████████| 126/126 [45:27<00:00, 21.64s/it]\n"
     ]
    }
   ],
   "source": [
    "for g in tqdm(genres):\n",
    "    \n",
    "    recs = sp.recommendations(genres = [g], limit = 50)\n",
    "    recs = eval(recs.json().replace(\"null\", \"-999\").replace(\"false\", \"False\").replace(\"true\", \"True\"))[\"tracks\"]\n",
    "    \n",
    "    for track in recs:\n",
    "        data_dict[\"id\"].append(track[\"id\"])\n",
    "        data_dict[\"genre\"].append(g)\n",
    "        track_meta = sp.track(track[\"id\"])\n",
    "        data_dict[\"track_name\"].append(track_meta.name)\n",
    "        data_dict[\"artist_name\"].append(track_meta.album.artists[0].name)\n",
    "        track_features = sp.track_audio_features(track[\"id\"])\n",
    "        data_dict[\"valence\"].append(track_features.valence)\n",
    "        data_dict[\"energy\"].append(track_features.energy)\n",
    "        \n",
    "        time.sleep(0.2)"
   ]
  },
  {
   "cell_type": "raw",
   "id": "b7193bcf",
   "metadata": {},
   "source": [
    "Using data_dict, I created a pandas dataframe which I used to create the music csv file that shows all of the song data that I gathered from Spotify. This table of song data represented the set of songs that would be potentially recommended based on the Spotify song that I input. This code was done in the Application Python journal."
   ]
  },
  {
   "cell_type": "code",
   "execution_count": 29,
   "id": "fb760a86",
   "metadata": {},
   "outputs": [],
   "source": [
    "df = pd.DataFrame(data_dict)\n",
    "df.to_csv(\"music.csv\")"
   ]
  },
  {
   "cell_type": "code",
   "execution_count": null,
   "id": "94ca1f2e",
   "metadata": {},
   "outputs": [],
   "source": []
  }
 ],
 "metadata": {
  "kernelspec": {
   "display_name": "Python 3 (ipykernel)",
   "language": "python",
   "name": "python3"
  },
  "language_info": {
   "codemirror_mode": {
    "name": "ipython",
    "version": 3
   },
   "file_extension": ".py",
   "mimetype": "text/x-python",
   "name": "python",
   "nbconvert_exporter": "python",
   "pygments_lexer": "ipython3",
   "version": "3.9.12"
  }
 },
 "nbformat": 4,
 "nbformat_minor": 5
}
