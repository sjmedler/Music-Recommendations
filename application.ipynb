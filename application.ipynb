{
 "cells": [
  {
   "cell_type": "raw",
   "id": "d3d160da",
   "metadata": {},
   "source": [
    "In this Python journal, I created the framework to get recommended songs from the songs csv dataset. At the end, a demonstration of this recommendation is done with a song on Spotify."
   ]
  },
  {
   "cell_type": "code",
   "execution_count": 1,
   "id": "8fcf864d",
   "metadata": {},
   "outputs": [],
   "source": [
    "import pandas as pd\n",
    "import authorization"
   ]
  },
  {
   "cell_type": "raw",
   "id": "a8c2c89e",
   "metadata": {},
   "source": [
    "The distance function below calculates the distance between two songs' valence and energy. It ensures that songs with a similar valence and energy would be recommended for the song that is inputted."
   ]
  },
  {
   "cell_type": "code",
   "execution_count": 2,
   "id": "f021a473",
   "metadata": {},
   "outputs": [],
   "source": [
    "def distance(p1, p2):\n",
    "    distance_x = p2[0]-p1[0]\n",
    "    distance_y = p2[1]-p1[1]\n",
    "    distance_vec = [distance_x, distance_y]\n",
    "    norm = (distance_vec[0]**2 + distance_vec[1]**2)**(1/2)\n",
    "    return norm"
   ]
  },
  {
   "cell_type": "raw",
   "id": "09e1d82e",
   "metadata": {},
   "source": [
    "In the code below, I read the data from the music csv file and returned how many songs are in the file.   "
   ]
  },
  {
   "cell_type": "code",
   "execution_count": 3,
   "id": "e1d5eb0a",
   "metadata": {},
   "outputs": [
    {
     "data": {
      "text/plain": [
       "6299"
      ]
     },
     "execution_count": 3,
     "metadata": {},
     "output_type": "execute_result"
    }
   ],
   "source": [
    "df = pd.read_csv(\"music.csv\")\n",
    "df[\"mood_vec\"] = df[[\"valence\", \"energy\"]].values.tolist()\n",
    "len(df)"
   ]
  },
  {
   "cell_type": "code",
   "execution_count": 4,
   "id": "6f15a45c",
   "metadata": {},
   "outputs": [],
   "source": [
    "sp = authorization.authorize()"
   ]
  },
  {
   "cell_type": "raw",
   "id": "de15bb29",
   "metadata": {},
   "source": [
    "In the recommend function, a Spotify track_id is inputted, and the function returns the recommended songs from the songs csv file. The songs are recommended using the distance function above in which it looks at the songs that are closest in energy and valence. By doing so, songs would be recommended based on whether they have a similar mood to the inputted song. "
   ]
  },
  {
   "cell_type": "code",
   "execution_count": 5,
   "id": "d6b18eb0",
   "metadata": {},
   "outputs": [],
   "source": [
    "def recommend(track_id, sp, n_recs, genres):\n",
    "    \n",
    "    track_features = sp.track_audio_features(track_id)\n",
    "    track_moodvec = [track_features.valence, track_features.energy]\n",
    "    print(track_moodvec)\n",
    "    \n",
    "    ref_df = df.loc[df[\"genre\"].isin(genres)].copy()\n",
    "    \n",
    "    ref_df[\"distances\"] = ref_df[\"mood_vec\"].apply(lambda x: distance(track_moodvec, x))\n",
    "    \n",
    "    ref_df_sorted = ref_df.sort_values(by = \"distances\", ascending = True)\n",
    "    ref_df_sorted = ref_df_sorted[ref_df_sorted[\"id\"] != track_id]\n",
    "    \n",
    "    return ref_df_sorted.iloc[:n_recs].drop(columns=df.columns[0], \n",
    "        axis=1)"
   ]
  },
  {
   "cell_type": "raw",
   "id": "a91bc9aa",
   "metadata": {},
   "source": [
    "In the code below, I did a demo using the Sweet Caroline song on Spotify. The link for this song is below:\n",
    "https://open.spotify.com/track/62AuGbAkt8Ox2IrFFb8GKV#login\n",
    "\n",
    "You can see that the track id is right after the \"track/\" portion of the url. In the function, alongside this id, I inputted the Spotify token, the number of songs that I wanted to be recommended, and the genres that I wanted to have these recommended songs from. In the example below, I asked for 5 Rock songs to be recommended for Sweet Caroline. The results were promising in which I saw that Rock songs of a similar mood were recommended like Africa and Every Breath You Take. This is because all of these songs are classic Rock songs which are generally happy and laid-back. This is why you see a higher valence but lower energy."
   ]
  },
  {
   "cell_type": "code",
   "execution_count": 6,
   "id": "5fe01826",
   "metadata": {},
   "outputs": [
    {
     "name": "stdout",
     "output_type": "stream",
     "text": [
      "[0.578, 0.127]\n"
     ]
    },
    {
     "data": {
      "text/html": [
       "<div>\n",
       "<style scoped>\n",
       "    .dataframe tbody tr th:only-of-type {\n",
       "        vertical-align: middle;\n",
       "    }\n",
       "\n",
       "    .dataframe tbody tr th {\n",
       "        vertical-align: top;\n",
       "    }\n",
       "\n",
       "    .dataframe thead th {\n",
       "        text-align: right;\n",
       "    }\n",
       "</style>\n",
       "<table border=\"1\" class=\"dataframe\">\n",
       "  <thead>\n",
       "    <tr style=\"text-align: right;\">\n",
       "      <th></th>\n",
       "      <th>id</th>\n",
       "      <th>genre</th>\n",
       "      <th>track_name</th>\n",
       "      <th>artist_name</th>\n",
       "      <th>valence</th>\n",
       "      <th>energy</th>\n",
       "      <th>mood_vec</th>\n",
       "      <th>distances</th>\n",
       "    </tr>\n",
       "  </thead>\n",
       "  <tbody>\n",
       "    <tr>\n",
       "      <th>4983</th>\n",
       "      <td>6i0V12jOa3mr6uu4WYhUBr</td>\n",
       "      <td>rock</td>\n",
       "      <td>Heathens</td>\n",
       "      <td>Twenty One Pilots</td>\n",
       "      <td>0.548</td>\n",
       "      <td>0.396</td>\n",
       "      <td>[0.548, 0.396]</td>\n",
       "      <td>0.270668</td>\n",
       "    </tr>\n",
       "    <tr>\n",
       "      <th>4954</th>\n",
       "      <td>2374M0fQpWi3dLnB54qaLX</td>\n",
       "      <td>rock</td>\n",
       "      <td>Africa</td>\n",
       "      <td>TOTO</td>\n",
       "      <td>0.732</td>\n",
       "      <td>0.373</td>\n",
       "      <td>[0.732, 0.373]</td>\n",
       "      <td>0.290227</td>\n",
       "    </tr>\n",
       "    <tr>\n",
       "      <th>4985</th>\n",
       "      <td>6VltRkmJbCTqgKrTHk4Ulw</td>\n",
       "      <td>rock</td>\n",
       "      <td>My My, Hey Hey (Out of the Blue) - 2016 Remaster</td>\n",
       "      <td>Neil Young</td>\n",
       "      <td>0.435</td>\n",
       "      <td>0.400</td>\n",
       "      <td>[0.435, 0.4]</td>\n",
       "      <td>0.308185</td>\n",
       "    </tr>\n",
       "    <tr>\n",
       "      <th>4992</th>\n",
       "      <td>5tVA6TkbaAH9QMITTQRrNv</td>\n",
       "      <td>rock</td>\n",
       "      <td>Free Fallin'</td>\n",
       "      <td>Tom Petty</td>\n",
       "      <td>0.572</td>\n",
       "      <td>0.449</td>\n",
       "      <td>[0.572, 0.449]</td>\n",
       "      <td>0.322056</td>\n",
       "    </tr>\n",
       "    <tr>\n",
       "      <th>4961</th>\n",
       "      <td>5C0LFQARavkPpn7JgA4sLk</td>\n",
       "      <td>rock</td>\n",
       "      <td>Every Breath You Take - Remastered 2003</td>\n",
       "      <td>The Police</td>\n",
       "      <td>0.740</td>\n",
       "      <td>0.452</td>\n",
       "      <td>[0.74, 0.452]</td>\n",
       "      <td>0.363138</td>\n",
       "    </tr>\n",
       "  </tbody>\n",
       "</table>\n",
       "</div>"
      ],
      "text/plain": [
       "                          id genre  \\\n",
       "4983  6i0V12jOa3mr6uu4WYhUBr  rock   \n",
       "4954  2374M0fQpWi3dLnB54qaLX  rock   \n",
       "4985  6VltRkmJbCTqgKrTHk4Ulw  rock   \n",
       "4992  5tVA6TkbaAH9QMITTQRrNv  rock   \n",
       "4961  5C0LFQARavkPpn7JgA4sLk  rock   \n",
       "\n",
       "                                            track_name        artist_name  \\\n",
       "4983                                          Heathens  Twenty One Pilots   \n",
       "4954                                            Africa               TOTO   \n",
       "4985  My My, Hey Hey (Out of the Blue) - 2016 Remaster         Neil Young   \n",
       "4992                                      Free Fallin'          Tom Petty   \n",
       "4961           Every Breath You Take - Remastered 2003         The Police   \n",
       "\n",
       "      valence  energy        mood_vec  distances  \n",
       "4983    0.548   0.396  [0.548, 0.396]   0.270668  \n",
       "4954    0.732   0.373  [0.732, 0.373]   0.290227  \n",
       "4985    0.435   0.400    [0.435, 0.4]   0.308185  \n",
       "4992    0.572   0.449  [0.572, 0.449]   0.322056  \n",
       "4961    0.740   0.452   [0.74, 0.452]   0.363138  "
      ]
     },
     "execution_count": 6,
     "metadata": {},
     "output_type": "execute_result"
    }
   ],
   "source": [
    "recommend(\"62AuGbAkt8Ox2IrFFb8GKV\", sp, 5, [\"rock\"])"
   ]
  },
  {
   "cell_type": "raw",
   "id": "c15bac1b",
   "metadata": {},
   "source": [
    "This is the results of my project that I showed to my class. It was recommended that I try to create my own recommender system for the songs on my computer rather than just use Spotify's systems. My attempt at doing that is shown in the Songs Python journal."
   ]
  }
 ],
 "metadata": {
  "kernelspec": {
   "display_name": "Python 3 (ipykernel)",
   "language": "python",
   "name": "python3"
  },
  "language_info": {
   "codemirror_mode": {
    "name": "ipython",
    "version": 3
   },
   "file_extension": ".py",
   "mimetype": "text/x-python",
   "name": "python",
   "nbconvert_exporter": "python",
   "pygments_lexer": "ipython3",
   "version": "3.9.12"
  }
 },
 "nbformat": 4,
 "nbformat_minor": 5
}
