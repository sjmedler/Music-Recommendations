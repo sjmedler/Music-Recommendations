{
 "cells": [
  {
   "cell_type": "code",
   "execution_count": 1,
   "id": "8fcf864d",
   "metadata": {},
   "outputs": [],
   "source": [
    "import pandas as pd\n",
    "import authorization"
   ]
  },
  {
   "cell_type": "code",
   "execution_count": 2,
   "id": "92d98d19",
   "metadata": {},
   "outputs": [],
   "source": [
    "def distance(p1, p2):\n",
    "    distance_x = p2[0]-p1[0]\n",
    "    distance_y = p2[1]-p1[1]\n",
    "    distance_vec = [distance_x, distance_y]\n",
    "    norm = (distance_vec[0]**2 + distance_vec[1]**2)**(1/2)\n",
    "    return norm"
   ]
  },
  {
   "cell_type": "code",
   "execution_count": 3,
   "id": "e1d5eb0a",
   "metadata": {},
   "outputs": [
    {
     "data": {
      "text/plain": [
       "6299"
      ]
     },
     "execution_count": 3,
     "metadata": {},
     "output_type": "execute_result"
    }
   ],
   "source": [
    "df = pd.read_csv(\"music.csv\")\n",
    "df[\"mood_vec\"] = df[[\"valence\", \"energy\"]].values.tolist()\n",
    "len(df)"
   ]
  },
  {
   "cell_type": "code",
   "execution_count": 4,
   "id": "6f15a45c",
   "metadata": {},
   "outputs": [],
   "source": [
    "sp = authorization.authorize()"
   ]
  },
  {
   "cell_type": "code",
   "execution_count": 5,
   "id": "d6b18eb0",
   "metadata": {},
   "outputs": [],
   "source": [
    "def recommend(track_id, sp, n_recs, genres):\n",
    "    \n",
    "    track_features = sp.track_audio_features(track_id)\n",
    "    track_moodvec = [track_features.valence, track_features.energy]\n",
    "    print(track_moodvec)\n",
    "    \n",
    "    ref_df = df.loc[df[\"genre\"].isin(genres)].copy()\n",
    "    \n",
    "    ref_df[\"distances\"] = ref_df[\"mood_vec\"].apply(lambda x: distance(track_moodvec, x))\n",
    "    \n",
    "    ref_df_sorted = ref_df.sort_values(by = \"distances\", ascending = True)\n",
    "    ref_df_sorted = ref_df_sorted[ref_df_sorted[\"id\"] != track_id]\n",
    "    \n",
    "    return ref_df_sorted.iloc[:n_recs].drop(columns=df.columns[0], \n",
    "        axis=1)"
   ]
  },
  {
   "cell_type": "code",
   "execution_count": 6,
   "id": "5fe01826",
   "metadata": {},
   "outputs": [
    {
     "name": "stdout",
     "output_type": "stream",
     "text": [
      "[0.578, 0.127]\n"
     ]
    },
    {
     "data": {
      "text/html": [
       "<div>\n",
       "<style scoped>\n",
       "    .dataframe tbody tr th:only-of-type {\n",
       "        vertical-align: middle;\n",
       "    }\n",
       "\n",
       "    .dataframe tbody tr th {\n",
       "        vertical-align: top;\n",
       "    }\n",
       "\n",
       "    .dataframe thead th {\n",
       "        text-align: right;\n",
       "    }\n",
       "</style>\n",
       "<table border=\"1\" class=\"dataframe\">\n",
       "  <thead>\n",
       "    <tr style=\"text-align: right;\">\n",
       "      <th></th>\n",
       "      <th>id</th>\n",
       "      <th>genre</th>\n",
       "      <th>track_name</th>\n",
       "      <th>artist_name</th>\n",
       "      <th>valence</th>\n",
       "      <th>energy</th>\n",
       "      <th>mood_vec</th>\n",
       "      <th>distances</th>\n",
       "    </tr>\n",
       "  </thead>\n",
       "  <tbody>\n",
       "    <tr>\n",
       "      <th>4983</th>\n",
       "      <td>6i0V12jOa3mr6uu4WYhUBr</td>\n",
       "      <td>rock</td>\n",
       "      <td>Heathens</td>\n",
       "      <td>Twenty One Pilots</td>\n",
       "      <td>0.548</td>\n",
       "      <td>0.396</td>\n",
       "      <td>[0.548, 0.396]</td>\n",
       "      <td>0.270668</td>\n",
       "    </tr>\n",
       "    <tr>\n",
       "      <th>4954</th>\n",
       "      <td>2374M0fQpWi3dLnB54qaLX</td>\n",
       "      <td>rock</td>\n",
       "      <td>Africa</td>\n",
       "      <td>TOTO</td>\n",
       "      <td>0.732</td>\n",
       "      <td>0.373</td>\n",
       "      <td>[0.732, 0.373]</td>\n",
       "      <td>0.290227</td>\n",
       "    </tr>\n",
       "    <tr>\n",
       "      <th>4985</th>\n",
       "      <td>6VltRkmJbCTqgKrTHk4Ulw</td>\n",
       "      <td>rock</td>\n",
       "      <td>My My, Hey Hey (Out of the Blue) - 2016 Remaster</td>\n",
       "      <td>Neil Young</td>\n",
       "      <td>0.435</td>\n",
       "      <td>0.400</td>\n",
       "      <td>[0.435, 0.4]</td>\n",
       "      <td>0.308185</td>\n",
       "    </tr>\n",
       "    <tr>\n",
       "      <th>4992</th>\n",
       "      <td>5tVA6TkbaAH9QMITTQRrNv</td>\n",
       "      <td>rock</td>\n",
       "      <td>Free Fallin'</td>\n",
       "      <td>Tom Petty</td>\n",
       "      <td>0.572</td>\n",
       "      <td>0.449</td>\n",
       "      <td>[0.572, 0.449]</td>\n",
       "      <td>0.322056</td>\n",
       "    </tr>\n",
       "    <tr>\n",
       "      <th>4961</th>\n",
       "      <td>5C0LFQARavkPpn7JgA4sLk</td>\n",
       "      <td>rock</td>\n",
       "      <td>Every Breath You Take - Remastered 2003</td>\n",
       "      <td>The Police</td>\n",
       "      <td>0.740</td>\n",
       "      <td>0.452</td>\n",
       "      <td>[0.74, 0.452]</td>\n",
       "      <td>0.363138</td>\n",
       "    </tr>\n",
       "  </tbody>\n",
       "</table>\n",
       "</div>"
      ],
      "text/plain": [
       "                          id genre  \\\n",
       "4983  6i0V12jOa3mr6uu4WYhUBr  rock   \n",
       "4954  2374M0fQpWi3dLnB54qaLX  rock   \n",
       "4985  6VltRkmJbCTqgKrTHk4Ulw  rock   \n",
       "4992  5tVA6TkbaAH9QMITTQRrNv  rock   \n",
       "4961  5C0LFQARavkPpn7JgA4sLk  rock   \n",
       "\n",
       "                                            track_name        artist_name  \\\n",
       "4983                                          Heathens  Twenty One Pilots   \n",
       "4954                                            Africa               TOTO   \n",
       "4985  My My, Hey Hey (Out of the Blue) - 2016 Remaster         Neil Young   \n",
       "4992                                      Free Fallin'          Tom Petty   \n",
       "4961           Every Breath You Take - Remastered 2003         The Police   \n",
       "\n",
       "      valence  energy        mood_vec  distances  \n",
       "4983    0.548   0.396  [0.548, 0.396]   0.270668  \n",
       "4954    0.732   0.373  [0.732, 0.373]   0.290227  \n",
       "4985    0.435   0.400    [0.435, 0.4]   0.308185  \n",
       "4992    0.572   0.449  [0.572, 0.449]   0.322056  \n",
       "4961    0.740   0.452   [0.74, 0.452]   0.363138  "
      ]
     },
     "execution_count": 6,
     "metadata": {},
     "output_type": "execute_result"
    }
   ],
   "source": [
    "recommend(\"62AuGbAkt8Ox2IrFFb8GKV\", sp, 5, [\"rock\"])"
   ]
  },
  {
   "cell_type": "code",
   "execution_count": 11,
   "id": "4d49b784",
   "metadata": {},
   "outputs": [
    {
     "data": {
      "text/plain": [
       "AudioFeatures with fields:\n",
       "  acousticness = 0.141\n",
       "  analysis_url = 'https://api.spotify.com/v1/audio-analysis/17gqkmWPppw...'\n",
       "  danceability = 0.461\n",
       "  duration_ms = 293640\n",
       "  energy = 0.932\n",
       "  id = '17gqkmWPppwlxIZLxTWzVy'\n",
       "  instrumentalness = 0\n",
       "  key = 2\n",
       "  liveness = 0.271\n",
       "  loudness = -2.499\n",
       "  mode = 0\n",
       "  speechiness = 0.0673\n",
       "  tempo = 90.074\n",
       "  time_signature = 4\n",
       "  track_href = 'https://api.spotify.com/v1/tracks/17gqkmWPppwlxIZLxTWzVy'\n",
       "  type = 'audio_features'\n",
       "  uri = 'spotify:track:17gqkmWPppwlxIZLxTWzVy'\n",
       "  valence = 0.425"
      ]
     },
     "execution_count": 11,
     "metadata": {},
     "output_type": "execute_result"
    }
   ],
   "source": [
    "sp.track_audio_features(\"17gqkmWPppwlxIZLxTWzVy\")"
   ]
  },
  {
   "cell_type": "code",
   "execution_count": null,
   "id": "759aad83",
   "metadata": {},
   "outputs": [],
   "source": []
  }
 ],
 "metadata": {
  "kernelspec": {
   "display_name": "Python 3 (ipykernel)",
   "language": "python",
   "name": "python3"
  },
  "language_info": {
   "codemirror_mode": {
    "name": "ipython",
    "version": 3
   },
   "file_extension": ".py",
   "mimetype": "text/x-python",
   "name": "python",
   "nbconvert_exporter": "python",
   "pygments_lexer": "ipython3",
   "version": "3.9.12"
  }
 },
 "nbformat": 4,
 "nbformat_minor": 5
}
